{
 "cells": [
  {
   "cell_type": "markdown",
   "id": "323956d2-9e02-40d3-82d8-4bd5b18da218",
   "metadata": {},
   "source": [
    "## Data description\n",
    "\n",
    "### Important Terms\n",
    "\n",
    "- **Clinical Case**: The scenario (e.g., symptoms, complaints, concerns) the Standardized Patient presents to the test taker (medical student, resident or physician). Ten clinical cases are represented in this dataset.\n",
    "- **Patient Note**: Text detailing important information related by the patient during the encounter (physical exam and interview).\n",
    "- **Feature**: A clinically relevant concept. A rubric describes the key concepts relevant to each case.\n",
    "\n",
    "### Training Data\n",
    "\n",
    "<ul>\n",
    "    <li>\n",
    "        <b>patient_notes.csv</b> - A collection of about 40,000 Patient Note history portions. Only a subset of these have features annotated. You may wish to apply unsupervised learning techniques on the notes without annotations. The patient notes in the test set are not included in the public version of this file.\n",
    "        <ul><li>pn_num - A unique identifier for each patient note.</li></ul>\n",
    "        <ul><li>case_num - A unique identifier for the clinical case a patient note represents.</li></ul>\n",
    "        <ul><li>pn_history - The text of the encounter as recorded by the test taker.</li></ul>\n",
    "    </li>\n",
    "    <li>\n",
    "        <b>features.csv</b> - The rubric of features (or key concepts) for each clinical case.\n",
    "            <ul><li>feature_num - A unique identifier for each feature.</li></ul>\n",
    "            <ul><li>case_num - A unique identifier for each case.</li></ul>\n",
    "            <ul><li>feature_text - A description of the feature.</li></ul>\n",
    "    </li>\n",
    "    <li>\n",
    "        <b>train.csv</b> - Feature annotations for 1000 of the patient notes, 100 for each of ten cases.\n",
    "                <ul><li>id - Unique identifier for each patient note / feature pair.</li></ul>\n",
    "                <ul><li>pn_num - The patient note annotated in this row.</li></ul>\n",
    "                <ul><li>feature_num - The feature annotated in this row.</li></ul>\n",
    "                <ul><li>case_num - The case to which this patient note belongs.</li></ul>\n",
    "                <ul><li>annotation - The text(s) within a patient note indicating a feature. A feature may be indicated multiple times within a single note.</li></ul>\n",
    "                <ul><li>location - Character spans indicating the location of each annotation within the note. Multiple spans may be needed to represent an annotation, in which case the spans are delimited by a semicolon ;.</li></ul>\n",
    "   </li>\n",
    "</ul>\n",
    "\n",
    "### So, we need to predict annotation based on Scripts (pn_history) and Symptoms (feature_text)"
   ]
  },
  {
   "cell_type": "code",
   "execution_count": 1,
   "id": "c07dcc05-dffc-4f8d-b254-de4f97061fa3",
   "metadata": {},
   "outputs": [],
   "source": [
    "import sys\n",
    "sys.path.append(\"..\")"
   ]
  },
  {
   "cell_type": "code",
   "execution_count": 18,
   "id": "2d513b90-fc01-47d4-9c74-1dc1cadba343",
   "metadata": {},
   "outputs": [],
   "source": [
    "import os\n",
    "\n",
    "import pandas as pd\n",
    "\n",
    "import matplotlib.pyplot as plt\n",
    "\n",
    "from src.visualization import plot_data, plot_utils"
   ]
  },
  {
   "cell_type": "markdown",
   "id": "a979d994-e0f8-491a-aa60-6ede08ed73cc",
   "metadata": {},
   "source": [
    "## Constants"
   ]
  },
  {
   "cell_type": "code",
   "execution_count": 3,
   "id": "a52d31d8-199a-4ede-bd5b-fa2903873595",
   "metadata": {},
   "outputs": [],
   "source": [
    "data_folder = os.path.join(\"/\", \"data\")\n",
    "raw_folder = os.path.join(data_folder, \"raw\")\n",
    "\n",
    "patient_notes_file_path = os.path.join(raw_folder, \"patient_notes.csv\")\n",
    "features_file_path = os.path.join(raw_folder, \"features.csv\")\n",
    "train_file_path = os.path.join(raw_folder, \"train.csv\")\n",
    "test_file_path = os.path.join(raw_folder, \"test.csv\")"
   ]
  },
  {
   "cell_type": "markdown",
   "id": "27e30c8c-ce08-4b55-9570-cd515855f3ba",
   "metadata": {},
   "source": [
    "## Extract"
   ]
  },
  {
   "cell_type": "code",
   "execution_count": 4,
   "id": "2e62554e-d07c-46f4-b4b2-456832fb0f74",
   "metadata": {},
   "outputs": [
    {
     "data": {
      "text/html": [
       "<div>\n",
       "<style scoped>\n",
       "    .dataframe tbody tr th:only-of-type {\n",
       "        vertical-align: middle;\n",
       "    }\n",
       "\n",
       "    .dataframe tbody tr th {\n",
       "        vertical-align: top;\n",
       "    }\n",
       "\n",
       "    .dataframe thead th {\n",
       "        text-align: right;\n",
       "    }\n",
       "</style>\n",
       "<table border=\"1\" class=\"dataframe\">\n",
       "  <thead>\n",
       "    <tr style=\"text-align: right;\">\n",
       "      <th></th>\n",
       "      <th>pn_num</th>\n",
       "      <th>case_num</th>\n",
       "      <th>pn_history</th>\n",
       "    </tr>\n",
       "  </thead>\n",
       "  <tbody>\n",
       "    <tr>\n",
       "      <th>0</th>\n",
       "      <td>0</td>\n",
       "      <td>0</td>\n",
       "      <td>17-year-old male, has come to the student heal...</td>\n",
       "    </tr>\n",
       "    <tr>\n",
       "      <th>1</th>\n",
       "      <td>1</td>\n",
       "      <td>0</td>\n",
       "      <td>17 yo male with recurrent palpitations for the...</td>\n",
       "    </tr>\n",
       "    <tr>\n",
       "      <th>2</th>\n",
       "      <td>2</td>\n",
       "      <td>0</td>\n",
       "      <td>Dillon Cleveland is a 17 y.o. male patient wit...</td>\n",
       "    </tr>\n",
       "    <tr>\n",
       "      <th>3</th>\n",
       "      <td>3</td>\n",
       "      <td>0</td>\n",
       "      <td>a 17 yo m c/o palpitation started 3 mos ago; \\...</td>\n",
       "    </tr>\n",
       "    <tr>\n",
       "      <th>4</th>\n",
       "      <td>4</td>\n",
       "      <td>0</td>\n",
       "      <td>17yo male with no pmh here for evaluation of p...</td>\n",
       "    </tr>\n",
       "  </tbody>\n",
       "</table>\n",
       "</div>"
      ],
      "text/plain": [
       "   pn_num  case_num                                         pn_history\n",
       "0       0         0  17-year-old male, has come to the student heal...\n",
       "1       1         0  17 yo male with recurrent palpitations for the...\n",
       "2       2         0  Dillon Cleveland is a 17 y.o. male patient wit...\n",
       "3       3         0  a 17 yo m c/o palpitation started 3 mos ago; \\...\n",
       "4       4         0  17yo male with no pmh here for evaluation of p..."
      ]
     },
     "execution_count": 4,
     "metadata": {},
     "output_type": "execute_result"
    }
   ],
   "source": [
    "patient_notes_df = pd.read_csv(patient_notes_file_path)\n",
    "patient_notes_df.head()"
   ]
  },
  {
   "cell_type": "code",
   "execution_count": 5,
   "id": "6d639817-d36b-4f46-8e51-1921b962aafb",
   "metadata": {},
   "outputs": [
    {
     "data": {
      "text/html": [
       "<div>\n",
       "<style scoped>\n",
       "    .dataframe tbody tr th:only-of-type {\n",
       "        vertical-align: middle;\n",
       "    }\n",
       "\n",
       "    .dataframe tbody tr th {\n",
       "        vertical-align: top;\n",
       "    }\n",
       "\n",
       "    .dataframe thead th {\n",
       "        text-align: right;\n",
       "    }\n",
       "</style>\n",
       "<table border=\"1\" class=\"dataframe\">\n",
       "  <thead>\n",
       "    <tr style=\"text-align: right;\">\n",
       "      <th></th>\n",
       "      <th>feature_num</th>\n",
       "      <th>case_num</th>\n",
       "      <th>feature_text</th>\n",
       "    </tr>\n",
       "  </thead>\n",
       "  <tbody>\n",
       "    <tr>\n",
       "      <th>0</th>\n",
       "      <td>0</td>\n",
       "      <td>0</td>\n",
       "      <td>Family-history-of-MI-OR-Family-history-of-myoc...</td>\n",
       "    </tr>\n",
       "    <tr>\n",
       "      <th>1</th>\n",
       "      <td>1</td>\n",
       "      <td>0</td>\n",
       "      <td>Family-history-of-thyroid-disorder</td>\n",
       "    </tr>\n",
       "    <tr>\n",
       "      <th>2</th>\n",
       "      <td>2</td>\n",
       "      <td>0</td>\n",
       "      <td>Chest-pressure</td>\n",
       "    </tr>\n",
       "    <tr>\n",
       "      <th>3</th>\n",
       "      <td>3</td>\n",
       "      <td>0</td>\n",
       "      <td>Intermittent-symptoms</td>\n",
       "    </tr>\n",
       "    <tr>\n",
       "      <th>4</th>\n",
       "      <td>4</td>\n",
       "      <td>0</td>\n",
       "      <td>Lightheaded</td>\n",
       "    </tr>\n",
       "  </tbody>\n",
       "</table>\n",
       "</div>"
      ],
      "text/plain": [
       "   feature_num  case_num                                       feature_text\n",
       "0            0         0  Family-history-of-MI-OR-Family-history-of-myoc...\n",
       "1            1         0                 Family-history-of-thyroid-disorder\n",
       "2            2         0                                     Chest-pressure\n",
       "3            3         0                              Intermittent-symptoms\n",
       "4            4         0                                        Lightheaded"
      ]
     },
     "execution_count": 5,
     "metadata": {},
     "output_type": "execute_result"
    }
   ],
   "source": [
    "features_df = pd.read_csv(features_file_path)\n",
    "features_df.head()"
   ]
  },
  {
   "cell_type": "code",
   "execution_count": 6,
   "id": "fcd1e36b-b3d0-424d-99ab-7ebc453a45ed",
   "metadata": {},
   "outputs": [
    {
     "data": {
      "text/html": [
       "<div>\n",
       "<style scoped>\n",
       "    .dataframe tbody tr th:only-of-type {\n",
       "        vertical-align: middle;\n",
       "    }\n",
       "\n",
       "    .dataframe tbody tr th {\n",
       "        vertical-align: top;\n",
       "    }\n",
       "\n",
       "    .dataframe thead th {\n",
       "        text-align: right;\n",
       "    }\n",
       "</style>\n",
       "<table border=\"1\" class=\"dataframe\">\n",
       "  <thead>\n",
       "    <tr style=\"text-align: right;\">\n",
       "      <th></th>\n",
       "      <th>id</th>\n",
       "      <th>case_num</th>\n",
       "      <th>pn_num</th>\n",
       "      <th>feature_num</th>\n",
       "      <th>annotation</th>\n",
       "      <th>location</th>\n",
       "    </tr>\n",
       "  </thead>\n",
       "  <tbody>\n",
       "    <tr>\n",
       "      <th>0</th>\n",
       "      <td>00016_000</td>\n",
       "      <td>0</td>\n",
       "      <td>16</td>\n",
       "      <td>0</td>\n",
       "      <td>['dad with recent heart attcak']</td>\n",
       "      <td>['696 724']</td>\n",
       "    </tr>\n",
       "    <tr>\n",
       "      <th>1</th>\n",
       "      <td>00016_001</td>\n",
       "      <td>0</td>\n",
       "      <td>16</td>\n",
       "      <td>1</td>\n",
       "      <td>['mom with \"thyroid disease']</td>\n",
       "      <td>['668 693']</td>\n",
       "    </tr>\n",
       "    <tr>\n",
       "      <th>2</th>\n",
       "      <td>00016_002</td>\n",
       "      <td>0</td>\n",
       "      <td>16</td>\n",
       "      <td>2</td>\n",
       "      <td>['chest pressure']</td>\n",
       "      <td>['203 217']</td>\n",
       "    </tr>\n",
       "    <tr>\n",
       "      <th>3</th>\n",
       "      <td>00016_003</td>\n",
       "      <td>0</td>\n",
       "      <td>16</td>\n",
       "      <td>3</td>\n",
       "      <td>['intermittent episodes', 'episode']</td>\n",
       "      <td>['70 91', '176 183']</td>\n",
       "    </tr>\n",
       "    <tr>\n",
       "      <th>4</th>\n",
       "      <td>00016_004</td>\n",
       "      <td>0</td>\n",
       "      <td>16</td>\n",
       "      <td>4</td>\n",
       "      <td>['felt as if he were going to pass out']</td>\n",
       "      <td>['222 258']</td>\n",
       "    </tr>\n",
       "  </tbody>\n",
       "</table>\n",
       "</div>"
      ],
      "text/plain": [
       "          id  case_num  pn_num  feature_num  \\\n",
       "0  00016_000         0      16            0   \n",
       "1  00016_001         0      16            1   \n",
       "2  00016_002         0      16            2   \n",
       "3  00016_003         0      16            3   \n",
       "4  00016_004         0      16            4   \n",
       "\n",
       "                                 annotation              location  \n",
       "0          ['dad with recent heart attcak']           ['696 724']  \n",
       "1             ['mom with \"thyroid disease']           ['668 693']  \n",
       "2                        ['chest pressure']           ['203 217']  \n",
       "3      ['intermittent episodes', 'episode']  ['70 91', '176 183']  \n",
       "4  ['felt as if he were going to pass out']           ['222 258']  "
      ]
     },
     "execution_count": 6,
     "metadata": {},
     "output_type": "execute_result"
    }
   ],
   "source": [
    "train_df = pd.read_csv(train_file_path)\n",
    "train_df.head()"
   ]
  },
  {
   "cell_type": "code",
   "execution_count": 7,
   "id": "140f322d-7516-4c59-86ef-41567453664f",
   "metadata": {},
   "outputs": [
    {
     "data": {
      "text/html": [
       "<div>\n",
       "<style scoped>\n",
       "    .dataframe tbody tr th:only-of-type {\n",
       "        vertical-align: middle;\n",
       "    }\n",
       "\n",
       "    .dataframe tbody tr th {\n",
       "        vertical-align: top;\n",
       "    }\n",
       "\n",
       "    .dataframe thead th {\n",
       "        text-align: right;\n",
       "    }\n",
       "</style>\n",
       "<table border=\"1\" class=\"dataframe\">\n",
       "  <thead>\n",
       "    <tr style=\"text-align: right;\">\n",
       "      <th></th>\n",
       "      <th>id</th>\n",
       "      <th>case_num</th>\n",
       "      <th>pn_num</th>\n",
       "      <th>feature_num</th>\n",
       "    </tr>\n",
       "  </thead>\n",
       "  <tbody>\n",
       "    <tr>\n",
       "      <th>0</th>\n",
       "      <td>00016_000</td>\n",
       "      <td>0</td>\n",
       "      <td>16</td>\n",
       "      <td>0</td>\n",
       "    </tr>\n",
       "    <tr>\n",
       "      <th>1</th>\n",
       "      <td>00016_001</td>\n",
       "      <td>0</td>\n",
       "      <td>16</td>\n",
       "      <td>1</td>\n",
       "    </tr>\n",
       "    <tr>\n",
       "      <th>2</th>\n",
       "      <td>00016_002</td>\n",
       "      <td>0</td>\n",
       "      <td>16</td>\n",
       "      <td>2</td>\n",
       "    </tr>\n",
       "    <tr>\n",
       "      <th>3</th>\n",
       "      <td>00016_003</td>\n",
       "      <td>0</td>\n",
       "      <td>16</td>\n",
       "      <td>3</td>\n",
       "    </tr>\n",
       "    <tr>\n",
       "      <th>4</th>\n",
       "      <td>00016_004</td>\n",
       "      <td>0</td>\n",
       "      <td>16</td>\n",
       "      <td>4</td>\n",
       "    </tr>\n",
       "  </tbody>\n",
       "</table>\n",
       "</div>"
      ],
      "text/plain": [
       "          id  case_num  pn_num  feature_num\n",
       "0  00016_000         0      16            0\n",
       "1  00016_001         0      16            1\n",
       "2  00016_002         0      16            2\n",
       "3  00016_003         0      16            3\n",
       "4  00016_004         0      16            4"
      ]
     },
     "execution_count": 7,
     "metadata": {},
     "output_type": "execute_result"
    }
   ],
   "source": [
    "test_df = pd.read_csv(test_file_path)\n",
    "test_df.head()"
   ]
  },
  {
   "cell_type": "markdown",
   "id": "0f50cb1d-6ad1-4b0e-a20f-0e212222fa4d",
   "metadata": {},
   "source": [
    "## Transform"
   ]
  },
  {
   "cell_type": "markdown",
   "id": "fc453a16-eca3-4db4-9a61-7df1ef901929",
   "metadata": {},
   "source": [
    "### Create full train dataset with:\n",
    "1. train\n",
    "2. features\n",
    "3. patient notes"
   ]
  },
  {
   "cell_type": "code",
   "execution_count": 8,
   "id": "39f40637-dfc0-4409-9134-317ff59de531",
   "metadata": {},
   "outputs": [
    {
     "data": {
      "text/html": [
       "<div>\n",
       "<style scoped>\n",
       "    .dataframe tbody tr th:only-of-type {\n",
       "        vertical-align: middle;\n",
       "    }\n",
       "\n",
       "    .dataframe tbody tr th {\n",
       "        vertical-align: top;\n",
       "    }\n",
       "\n",
       "    .dataframe thead th {\n",
       "        text-align: right;\n",
       "    }\n",
       "</style>\n",
       "<table border=\"1\" class=\"dataframe\">\n",
       "  <thead>\n",
       "    <tr style=\"text-align: right;\">\n",
       "      <th></th>\n",
       "      <th>id</th>\n",
       "      <th>case_num</th>\n",
       "      <th>pn_num</th>\n",
       "      <th>feature_num</th>\n",
       "      <th>annotation</th>\n",
       "      <th>location</th>\n",
       "      <th>feature_text</th>\n",
       "      <th>pn_history</th>\n",
       "    </tr>\n",
       "  </thead>\n",
       "  <tbody>\n",
       "    <tr>\n",
       "      <th>0</th>\n",
       "      <td>00016_000</td>\n",
       "      <td>0</td>\n",
       "      <td>16</td>\n",
       "      <td>0</td>\n",
       "      <td>['dad with recent heart attcak']</td>\n",
       "      <td>['696 724']</td>\n",
       "      <td>Family-history-of-MI-OR-Family-history-of-myoc...</td>\n",
       "      <td>HPI: 17yo M presents with palpitations. Patien...</td>\n",
       "    </tr>\n",
       "    <tr>\n",
       "      <th>1</th>\n",
       "      <td>00016_001</td>\n",
       "      <td>0</td>\n",
       "      <td>16</td>\n",
       "      <td>1</td>\n",
       "      <td>['mom with \"thyroid disease']</td>\n",
       "      <td>['668 693']</td>\n",
       "      <td>Family-history-of-thyroid-disorder</td>\n",
       "      <td>HPI: 17yo M presents with palpitations. Patien...</td>\n",
       "    </tr>\n",
       "    <tr>\n",
       "      <th>2</th>\n",
       "      <td>00016_002</td>\n",
       "      <td>0</td>\n",
       "      <td>16</td>\n",
       "      <td>2</td>\n",
       "      <td>['chest pressure']</td>\n",
       "      <td>['203 217']</td>\n",
       "      <td>Chest-pressure</td>\n",
       "      <td>HPI: 17yo M presents with palpitations. Patien...</td>\n",
       "    </tr>\n",
       "    <tr>\n",
       "      <th>3</th>\n",
       "      <td>00016_003</td>\n",
       "      <td>0</td>\n",
       "      <td>16</td>\n",
       "      <td>3</td>\n",
       "      <td>['intermittent episodes', 'episode']</td>\n",
       "      <td>['70 91', '176 183']</td>\n",
       "      <td>Intermittent-symptoms</td>\n",
       "      <td>HPI: 17yo M presents with palpitations. Patien...</td>\n",
       "    </tr>\n",
       "    <tr>\n",
       "      <th>4</th>\n",
       "      <td>00016_004</td>\n",
       "      <td>0</td>\n",
       "      <td>16</td>\n",
       "      <td>4</td>\n",
       "      <td>['felt as if he were going to pass out']</td>\n",
       "      <td>['222 258']</td>\n",
       "      <td>Lightheaded</td>\n",
       "      <td>HPI: 17yo M presents with palpitations. Patien...</td>\n",
       "    </tr>\n",
       "  </tbody>\n",
       "</table>\n",
       "</div>"
      ],
      "text/plain": [
       "          id  case_num  pn_num  feature_num  \\\n",
       "0  00016_000         0      16            0   \n",
       "1  00016_001         0      16            1   \n",
       "2  00016_002         0      16            2   \n",
       "3  00016_003         0      16            3   \n",
       "4  00016_004         0      16            4   \n",
       "\n",
       "                                 annotation              location  \\\n",
       "0          ['dad with recent heart attcak']           ['696 724']   \n",
       "1             ['mom with \"thyroid disease']           ['668 693']   \n",
       "2                        ['chest pressure']           ['203 217']   \n",
       "3      ['intermittent episodes', 'episode']  ['70 91', '176 183']   \n",
       "4  ['felt as if he were going to pass out']           ['222 258']   \n",
       "\n",
       "                                        feature_text  \\\n",
       "0  Family-history-of-MI-OR-Family-history-of-myoc...   \n",
       "1                 Family-history-of-thyroid-disorder   \n",
       "2                                     Chest-pressure   \n",
       "3                              Intermittent-symptoms   \n",
       "4                                        Lightheaded   \n",
       "\n",
       "                                          pn_history  \n",
       "0  HPI: 17yo M presents with palpitations. Patien...  \n",
       "1  HPI: 17yo M presents with palpitations. Patien...  \n",
       "2  HPI: 17yo M presents with palpitations. Patien...  \n",
       "3  HPI: 17yo M presents with palpitations. Patien...  \n",
       "4  HPI: 17yo M presents with palpitations. Patien...  "
      ]
     },
     "execution_count": 8,
     "metadata": {},
     "output_type": "execute_result"
    }
   ],
   "source": [
    "train_df = pd.merge(\n",
    "    train_df, features_df, how='left', on=[\"feature_num\", \"case_num\"])\n",
    "\n",
    "train_df = pd.merge(\n",
    "    train_df, patient_notes_df, how='left', on=['pn_num', 'case_num'])\n",
    "\n",
    "train_df.head()"
   ]
  },
  {
   "cell_type": "markdown",
   "id": "51e2acb5-1510-495d-b7ca-cecdad4044bd",
   "metadata": {},
   "source": [
    "### Create full test dataset with:\n",
    "1. test\n",
    "2. features\n",
    "3. patient notes"
   ]
  },
  {
   "cell_type": "code",
   "execution_count": 9,
   "id": "c8cfe980-431f-4dc6-be6e-7f2149f612ab",
   "metadata": {},
   "outputs": [
    {
     "data": {
      "text/html": [
       "<div>\n",
       "<style scoped>\n",
       "    .dataframe tbody tr th:only-of-type {\n",
       "        vertical-align: middle;\n",
       "    }\n",
       "\n",
       "    .dataframe tbody tr th {\n",
       "        vertical-align: top;\n",
       "    }\n",
       "\n",
       "    .dataframe thead th {\n",
       "        text-align: right;\n",
       "    }\n",
       "</style>\n",
       "<table border=\"1\" class=\"dataframe\">\n",
       "  <thead>\n",
       "    <tr style=\"text-align: right;\">\n",
       "      <th></th>\n",
       "      <th>id</th>\n",
       "      <th>case_num</th>\n",
       "      <th>pn_num</th>\n",
       "      <th>feature_num</th>\n",
       "      <th>feature_text</th>\n",
       "      <th>pn_history</th>\n",
       "    </tr>\n",
       "  </thead>\n",
       "  <tbody>\n",
       "    <tr>\n",
       "      <th>0</th>\n",
       "      <td>00016_000</td>\n",
       "      <td>0</td>\n",
       "      <td>16</td>\n",
       "      <td>0</td>\n",
       "      <td>Family-history-of-MI-OR-Family-history-of-myoc...</td>\n",
       "      <td>HPI: 17yo M presents with palpitations. Patien...</td>\n",
       "    </tr>\n",
       "    <tr>\n",
       "      <th>1</th>\n",
       "      <td>00016_001</td>\n",
       "      <td>0</td>\n",
       "      <td>16</td>\n",
       "      <td>1</td>\n",
       "      <td>Family-history-of-thyroid-disorder</td>\n",
       "      <td>HPI: 17yo M presents with palpitations. Patien...</td>\n",
       "    </tr>\n",
       "    <tr>\n",
       "      <th>2</th>\n",
       "      <td>00016_002</td>\n",
       "      <td>0</td>\n",
       "      <td>16</td>\n",
       "      <td>2</td>\n",
       "      <td>Chest-pressure</td>\n",
       "      <td>HPI: 17yo M presents with palpitations. Patien...</td>\n",
       "    </tr>\n",
       "    <tr>\n",
       "      <th>3</th>\n",
       "      <td>00016_003</td>\n",
       "      <td>0</td>\n",
       "      <td>16</td>\n",
       "      <td>3</td>\n",
       "      <td>Intermittent-symptoms</td>\n",
       "      <td>HPI: 17yo M presents with palpitations. Patien...</td>\n",
       "    </tr>\n",
       "    <tr>\n",
       "      <th>4</th>\n",
       "      <td>00016_004</td>\n",
       "      <td>0</td>\n",
       "      <td>16</td>\n",
       "      <td>4</td>\n",
       "      <td>Lightheaded</td>\n",
       "      <td>HPI: 17yo M presents with palpitations. Patien...</td>\n",
       "    </tr>\n",
       "  </tbody>\n",
       "</table>\n",
       "</div>"
      ],
      "text/plain": [
       "          id  case_num  pn_num  feature_num  \\\n",
       "0  00016_000         0      16            0   \n",
       "1  00016_001         0      16            1   \n",
       "2  00016_002         0      16            2   \n",
       "3  00016_003         0      16            3   \n",
       "4  00016_004         0      16            4   \n",
       "\n",
       "                                        feature_text  \\\n",
       "0  Family-history-of-MI-OR-Family-history-of-myoc...   \n",
       "1                 Family-history-of-thyroid-disorder   \n",
       "2                                     Chest-pressure   \n",
       "3                              Intermittent-symptoms   \n",
       "4                                        Lightheaded   \n",
       "\n",
       "                                          pn_history  \n",
       "0  HPI: 17yo M presents with palpitations. Patien...  \n",
       "1  HPI: 17yo M presents with palpitations. Patien...  \n",
       "2  HPI: 17yo M presents with palpitations. Patien...  \n",
       "3  HPI: 17yo M presents with palpitations. Patien...  \n",
       "4  HPI: 17yo M presents with palpitations. Patien...  "
      ]
     },
     "execution_count": 9,
     "metadata": {},
     "output_type": "execute_result"
    }
   ],
   "source": [
    "test_df = pd.merge(\n",
    "    test_df, features_df, how='left', on=[\"feature_num\", \"case_num\"])\n",
    "\n",
    "test_df = pd.merge(\n",
    "    test_df, patient_notes_df, how='left', on=['pn_num', 'case_num'])\n",
    "\n",
    "test_df.head()"
   ]
  },
  {
   "cell_type": "markdown",
   "id": "248bff48-4df1-4289-898a-c3809f1b9ceb",
   "metadata": {},
   "source": [
    "## Analysis"
   ]
  },
  {
   "cell_type": "markdown",
   "id": "08285fd3-4e08-401c-ab69-8a4a931f8d38",
   "metadata": {},
   "source": [
    "### Check nulls for each dataset"
   ]
  },
  {
   "cell_type": "code",
   "execution_count": 10,
   "id": "6157d118-0733-4882-ab9f-b4cabd25a0ce",
   "metadata": {},
   "outputs": [],
   "source": [
    "plot_data.plot_nulls_per_column(train_df)"
   ]
  },
  {
   "cell_type": "code",
   "execution_count": 11,
   "id": "60a093b8-3941-42f9-96c4-bc45ee8c33b7",
   "metadata": {},
   "outputs": [],
   "source": [
    "plot_data.plot_nulls_per_column(test_df)"
   ]
  },
  {
   "cell_type": "markdown",
   "id": "ee6b8355-f4d2-4c98-86f1-1cc0add3ab0b",
   "metadata": {},
   "source": [
    "### Patient notes (patient_notes.csv)\n",
    "\n",
    "Random patient note example"
   ]
  },
  {
   "cell_type": "code",
   "execution_count": 12,
   "id": "e2aa4a16-d1b1-417d-8eff-a5aea1751493",
   "metadata": {},
   "outputs": [
    {
     "data": {
      "text/plain": [
       "'Ms. Moore is a 40yo F with no PMH presenting with a few (~3) week duration of nervousness/anxiety. The nervousness is constant. She recently switched her career to being an english professor and has incr nervousness that is worse on Sundays and Mondays. She does not think she is overly worried about everything. She has a decr appetite and trouble falling asleep, has not taken any meds for sleep. Denies tremors, fevers, sense of impending doom, chills, night sweats, chest pain, SOB, abd pain, diaphoresis, memory changes, weight changes, hair/skin/nail changes, palpitations. No PMH or PSH. Takes Tylenol PRN for headache if she reads too much, no other meds. Drinks alcohol socially. Drinks 5-6 cups of coffee daily. Denies tobacco, or illegal drug use. NKDA. No fam hx of thyroid or anxiety problems.'"
      ]
     },
     "execution_count": 12,
     "metadata": {},
     "output_type": "execute_result"
    }
   ],
   "source": [
    "patient_notes_df.sample(n=1)[\"pn_history\"].values[0]"
   ]
  },
  {
   "cell_type": "code",
   "execution_count": 13,
   "id": "fc55befc-1b94-4464-a65f-03688553eae2",
   "metadata": {},
   "outputs": [
    {
     "data": {
      "image/png": "[encoded data removed]",
      "text/plain": [
       "<Figure size 864x576 with 1 Axes>"
      ]
     },
     "metadata": {
      "needs_background": "light"
     },
     "output_type": "display_data"
    }
   ],
   "source": [
    "_ = patient_notes_df \\\n",
    "    .groupby(\"case_num\") \\\n",
    "    .size() \\\n",
    "    .plot(kind=\"bar\", figsize=(12, 8), rot=0, xlabel=\"Case number\", \n",
    "          ylabel=\"Patients\", title=\"Distribution of patient notes for each case\")"
   ]
  },
  {
   "cell_type": "code",
   "execution_count": 14,
   "id": "22ff70f9-1345-4768-93ca-1476f8677aa0",
   "metadata": {},
   "outputs": [],
   "source": [
    "patient_notes_df[\"history_len\"] = patient_notes_df.pn_history.str.len()"
   ]
  },
  {
   "cell_type": "code",
   "execution_count": 42,
   "id": "aa6410dc-54d5-4d62-90e9-facbfadf9b47",
   "metadata": {},
   "outputs": [
    {
     "data": {
      "image/png": "[encoded data removed]",
      "text/plain": [
       "<Figure size 864x576 with 1 Axes>"
      ]
     },
     "metadata": {
      "needs_background": "light"
     },
     "output_type": "display_data"
    }
   ],
   "source": [
    "ax = patient_notes_df \\\n",
    "    .groupby(\"case_num\") \\\n",
    "    .history_len \\\n",
    "    .mean() \\\n",
    "    .plot(kind=\"bar\", figsize=(12, 8), rot=0, xlabel=\"Case number\", \n",
    "          ylabel=\"Patient notes length\", title=\"Average patient notes length for each case\")\n",
    "_ = ax.axhline(y=patient_notes_df.history_len.mean(), color=\"r\", linestyle=\"--\")"
   ]
  },
  {
   "cell_type": "code",
   "execution_count": 26,
   "id": "7f77f961-bb83-4860-99e1-32bdcf0a488f",
   "metadata": {},
   "outputs": [
    {
     "data": {
      "image/png": "[encoded data removed]",
      "text/plain": [
       "<Figure size 1080x576 with 1 Axes>"
      ]
     },
     "metadata": {
      "needs_background": "light"
     },
     "output_type": "display_data"
    }
   ],
   "source": [
    "plot_utils.plot_histogram(\n",
    "    patient_notes_df.history_len, bins=100, title=\"Histogram of patient notes\", \n",
    "    y_label=\"Patients\", x_label=\"Lenght of patient notes\")"
   ]
  },
  {
   "cell_type": "markdown",
   "id": "9fb98d72-f737-4c05-a357-5abcb7e0b694",
   "metadata": {},
   "source": [
    "### Features data (features.csv)"
   ]
  },
  {
   "cell_type": "code",
   "execution_count": 27,
   "id": "519cf408-5cf8-42a4-a0cf-d24b6c547219",
   "metadata": {},
   "outputs": [
    {
     "data": {
      "text/html": [
       "<div>\n",
       "<style scoped>\n",
       "    .dataframe tbody tr th:only-of-type {\n",
       "        vertical-align: middle;\n",
       "    }\n",
       "\n",
       "    .dataframe tbody tr th {\n",
       "        vertical-align: top;\n",
       "    }\n",
       "\n",
       "    .dataframe thead th {\n",
       "        text-align: right;\n",
       "    }\n",
       "</style>\n",
       "<table border=\"1\" class=\"dataframe\">\n",
       "  <thead>\n",
       "    <tr style=\"text-align: right;\">\n",
       "      <th></th>\n",
       "      <th>feature_num</th>\n",
       "      <th>case_num</th>\n",
       "      <th>feature_text</th>\n",
       "    </tr>\n",
       "  </thead>\n",
       "  <tbody>\n",
       "    <tr>\n",
       "      <th>0</th>\n",
       "      <td>0</td>\n",
       "      <td>0</td>\n",
       "      <td>Family-history-of-MI-OR-Family-history-of-myoc...</td>\n",
       "    </tr>\n",
       "    <tr>\n",
       "      <th>1</th>\n",
       "      <td>1</td>\n",
       "      <td>0</td>\n",
       "      <td>Family-history-of-thyroid-disorder</td>\n",
       "    </tr>\n",
       "    <tr>\n",
       "      <th>2</th>\n",
       "      <td>2</td>\n",
       "      <td>0</td>\n",
       "      <td>Chest-pressure</td>\n",
       "    </tr>\n",
       "    <tr>\n",
       "      <th>3</th>\n",
       "      <td>3</td>\n",
       "      <td>0</td>\n",
       "      <td>Intermittent-symptoms</td>\n",
       "    </tr>\n",
       "    <tr>\n",
       "      <th>4</th>\n",
       "      <td>4</td>\n",
       "      <td>0</td>\n",
       "      <td>Lightheaded</td>\n",
       "    </tr>\n",
       "    <tr>\n",
       "      <th>...</th>\n",
       "      <td>...</td>\n",
       "      <td>...</td>\n",
       "      <td>...</td>\n",
       "    </tr>\n",
       "    <tr>\n",
       "      <th>138</th>\n",
       "      <td>912</td>\n",
       "      <td>9</td>\n",
       "      <td>Family-history-of-migraines</td>\n",
       "    </tr>\n",
       "    <tr>\n",
       "      <th>139</th>\n",
       "      <td>913</td>\n",
       "      <td>9</td>\n",
       "      <td>Female</td>\n",
       "    </tr>\n",
       "    <tr>\n",
       "      <th>140</th>\n",
       "      <td>914</td>\n",
       "      <td>9</td>\n",
       "      <td>Photophobia</td>\n",
       "    </tr>\n",
       "    <tr>\n",
       "      <th>141</th>\n",
       "      <td>915</td>\n",
       "      <td>9</td>\n",
       "      <td>No-known-illness-contacts</td>\n",
       "    </tr>\n",
       "    <tr>\n",
       "      <th>142</th>\n",
       "      <td>916</td>\n",
       "      <td>9</td>\n",
       "      <td>Subjective-fever</td>\n",
       "    </tr>\n",
       "  </tbody>\n",
       "</table>\n",
       "<p>143 rows × 3 columns</p>\n",
       "</div>"
      ],
      "text/plain": [
       "     feature_num  case_num                                       feature_text\n",
       "0              0         0  Family-history-of-MI-OR-Family-history-of-myoc...\n",
       "1              1         0                 Family-history-of-thyroid-disorder\n",
       "2              2         0                                     Chest-pressure\n",
       "3              3         0                              Intermittent-symptoms\n",
       "4              4         0                                        Lightheaded\n",
       "..           ...       ...                                                ...\n",
       "138          912         9                        Family-history-of-migraines\n",
       "139          913         9                                             Female\n",
       "140          914         9                                        Photophobia\n",
       "141          915         9                          No-known-illness-contacts\n",
       "142          916         9                                   Subjective-fever\n",
       "\n",
       "[143 rows x 3 columns]"
      ]
     },
     "execution_count": 27,
     "metadata": {},
     "output_type": "execute_result"
    }
   ],
   "source": [
    "features_df"
   ]
  },
  {
   "cell_type": "markdown",
   "id": "70ae4f8a-6832-47cf-9131-f0f6600b7ca1",
   "metadata": {},
   "source": [
    "Feature example"
   ]
  },
  {
   "cell_type": "code",
   "execution_count": 30,
   "id": "2302b935-b25f-412e-8c35-12ea3e12e9d4",
   "metadata": {},
   "outputs": [
    {
     "data": {
      "text/plain": [
       "'Global-headache-OR-diffuse-headache'"
      ]
     },
     "execution_count": 30,
     "metadata": {},
     "output_type": "execute_result"
    }
   ],
   "source": [
    "features_df.sample(n=1).feature_text.values[0]"
   ]
  },
  {
   "cell_type": "code",
   "execution_count": 31,
   "id": "b7ddfd54-afaa-4339-82f9-fc9cd8a1c6ff",
   "metadata": {},
   "outputs": [
    {
     "data": {
      "image/png": "[encoded data removed]",
      "text/plain": [
       "<Figure size 864x576 with 1 Axes>"
      ]
     },
     "metadata": {
      "needs_background": "light"
     },
     "output_type": "display_data"
    }
   ],
   "source": [
    "_ = features_df \\\n",
    "    .groupby(\"case_num\") \\\n",
    "    .size() \\\n",
    "    .plot(kind=\"bar\", figsize=(12, 8), rot=0, xlabel=\"Case number\", \n",
    "          ylabel=\"Features\", title=\"Distribution of features for each case\")"
   ]
  },
  {
   "cell_type": "code",
   "execution_count": 32,
   "id": "ec80cfa9-fcdb-4267-ab01-f1de4297c85e",
   "metadata": {},
   "outputs": [],
   "source": [
    "features_df[\"feature_len\"] = features_df.feature_text.str.len()"
   ]
  },
  {
   "cell_type": "code",
   "execution_count": 44,
   "id": "7071235b-e02c-409c-b592-307ec7b212db",
   "metadata": {},
   "outputs": [
    {
     "data": {
      "image/png": "[encoded data removed]",
      "text/plain": [
       "<Figure size 864x576 with 1 Axes>"
      ]
     },
     "metadata": {
      "needs_background": "light"
     },
     "output_type": "display_data"
    }
   ],
   "source": [
    "ax = features_df \\\n",
    "    .groupby(\"case_num\") \\\n",
    "    .feature_len \\\n",
    "    .mean() \\\n",
    "    .plot(kind=\"bar\", figsize=(12, 8), rot=0, xlabel=\"Case number\", \n",
    "          ylabel=\"Features length\", title=\"Average features length for each case\")\n",
    "_ = ax.axhline(y=features_df.feature_len.mean(), color=\"r\", linestyle=\"--\")"
   ]
  },
  {
   "cell_type": "code",
   "execution_count": 47,
   "id": "0563fc7a-cd5a-44a8-aa3e-62e29ab4d626",
   "metadata": {},
   "outputs": [
    {
     "data": {
      "image/png": "[encoded data removed]",
      "text/plain": [
       "<Figure size 1080x576 with 1 Axes>"
      ]
     },
     "metadata": {
      "needs_background": "light"
     },
     "output_type": "display_data"
    }
   ],
   "source": [
    "plot_utils.plot_histogram(\n",
    "    features_df[\"feature_len\"], bins=50, title=\"Histogram of features lenght\", \n",
    "    x_label=\"Feature lenght\", y_label=\"Features\")"
   ]
  },
  {
   "cell_type": "markdown",
   "id": "6911026c-4da0-4f34-bc31-bbaa3f18b98d",
   "metadata": {},
   "source": [
    "### Patient analysis"
   ]
  },
  {
   "cell_type": "code",
   "execution_count": 48,
   "id": "1234e5dc-699b-474a-bafc-6935dcbb42f2",
   "metadata": {},
   "outputs": [
    {
     "name": "stdout",
     "output_type": "stream",
     "text": [
      "Unique patients in train data 1000\n"
     ]
    }
   ],
   "source": [
    "print(f\"Unique patients in train data {train_df.pn_num.nunique()}\")"
   ]
  },
  {
   "cell_type": "code",
   "execution_count": 58,
   "id": "37cc5ea5-f930-4b82-8308-e4a62941b67c",
   "metadata": {},
   "outputs": [],
   "source": [
    "random_patient_id = train_df.sample(n=1).pn_num.values[0]"
   ]
  },
  {
   "cell_type": "code",
   "execution_count": 61,
   "id": "022d9c9a-8a7d-4a60-8f0b-cba3cf4d9328",
   "metadata": {},
   "outputs": [
    {
     "data": {
      "text/html": [
       "<div>\n",
       "<style scoped>\n",
       "    .dataframe tbody tr th:only-of-type {\n",
       "        vertical-align: middle;\n",
       "    }\n",
       "\n",
       "    .dataframe tbody tr th {\n",
       "        vertical-align: top;\n",
       "    }\n",
       "\n",
       "    .dataframe thead th {\n",
       "        text-align: right;\n",
       "    }\n",
       "</style>\n",
       "<table border=\"1\" class=\"dataframe\">\n",
       "  <thead>\n",
       "    <tr style=\"text-align: right;\">\n",
       "      <th></th>\n",
       "      <th>id</th>\n",
       "      <th>case_num</th>\n",
       "      <th>pn_num</th>\n",
       "      <th>feature_num</th>\n",
       "      <th>annotation</th>\n",
       "      <th>location</th>\n",
       "      <th>feature_text</th>\n",
       "      <th>pn_history</th>\n",
       "    </tr>\n",
       "  </thead>\n",
       "  <tbody>\n",
       "    <tr>\n",
       "      <th>598</th>\n",
       "      <td>01010_000</td>\n",
       "      <td>0</td>\n",
       "      <td>1010</td>\n",
       "      <td>0</td>\n",
       "      <td>['MI in his father']</td>\n",
       "      <td>['732 748']</td>\n",
       "      <td>Family-history-of-MI-OR-Family-history-of-myoc...</td>\n",
       "      <td>Dillon Cleveland is a 17 yo M who presents to ...</td>\n",
       "    </tr>\n",
       "    <tr>\n",
       "      <th>599</th>\n",
       "      <td>01010_001</td>\n",
       "      <td>0</td>\n",
       "      <td>1010</td>\n",
       "      <td>1</td>\n",
       "      <td>['mother has thyroid problems']</td>\n",
       "      <td>['768 795']</td>\n",
       "      <td>Family-history-of-thyroid-disorder</td>\n",
       "      <td>Dillon Cleveland is a 17 yo M who presents to ...</td>\n",
       "    </tr>\n",
       "    <tr>\n",
       "      <th>600</th>\n",
       "      <td>01010_002</td>\n",
       "      <td>0</td>\n",
       "      <td>1010</td>\n",
       "      <td>2</td>\n",
       "      <td>[]</td>\n",
       "      <td>[]</td>\n",
       "      <td>Chest-pressure</td>\n",
       "      <td>Dillon Cleveland is a 17 yo M who presents to ...</td>\n",
       "    </tr>\n",
       "    <tr>\n",
       "      <th>601</th>\n",
       "      <td>01010_003</td>\n",
       "      <td>0</td>\n",
       "      <td>1010</td>\n",
       "      <td>3</td>\n",
       "      <td>[]</td>\n",
       "      <td>[]</td>\n",
       "      <td>Intermittent-symptoms</td>\n",
       "      <td>Dillon Cleveland is a 17 yo M who presents to ...</td>\n",
       "    </tr>\n",
       "    <tr>\n",
       "      <th>602</th>\n",
       "      <td>01010_004</td>\n",
       "      <td>0</td>\n",
       "      <td>1010</td>\n",
       "      <td>4</td>\n",
       "      <td>['light headed']</td>\n",
       "      <td>['332 344']</td>\n",
       "      <td>Lightheaded</td>\n",
       "      <td>Dillon Cleveland is a 17 yo M who presents to ...</td>\n",
       "    </tr>\n",
       "    <tr>\n",
       "      <th>603</th>\n",
       "      <td>01010_005</td>\n",
       "      <td>0</td>\n",
       "      <td>1010</td>\n",
       "      <td>5</td>\n",
       "      <td>[]</td>\n",
       "      <td>[]</td>\n",
       "      <td>No-hair-changes-OR-no-nail-changes-OR-no-tempe...</td>\n",
       "      <td>Dillon Cleveland is a 17 yo M who presents to ...</td>\n",
       "    </tr>\n",
       "    <tr>\n",
       "      <th>604</th>\n",
       "      <td>01010_006</td>\n",
       "      <td>0</td>\n",
       "      <td>1010</td>\n",
       "      <td>6</td>\n",
       "      <td>['taken adderall']</td>\n",
       "      <td>['549 554;570 578']</td>\n",
       "      <td>Adderall-use</td>\n",
       "      <td>Dillon Cleveland is a 17 yo M who presents to ...</td>\n",
       "    </tr>\n",
       "    <tr>\n",
       "      <th>605</th>\n",
       "      <td>01010_007</td>\n",
       "      <td>0</td>\n",
       "      <td>1010</td>\n",
       "      <td>7</td>\n",
       "      <td>['SOB']</td>\n",
       "      <td>['324 327']</td>\n",
       "      <td>Shortness-of-breath</td>\n",
       "      <td>Dillon Cleveland is a 17 yo M who presents to ...</td>\n",
       "    </tr>\n",
       "    <tr>\n",
       "      <th>606</th>\n",
       "      <td>01010_008</td>\n",
       "      <td>0</td>\n",
       "      <td>1010</td>\n",
       "      <td>8</td>\n",
       "      <td>[]</td>\n",
       "      <td>[]</td>\n",
       "      <td>Caffeine-use</td>\n",
       "      <td>Dillon Cleveland is a 17 yo M who presents to ...</td>\n",
       "    </tr>\n",
       "    <tr>\n",
       "      <th>607</th>\n",
       "      <td>01010_009</td>\n",
       "      <td>0</td>\n",
       "      <td>1010</td>\n",
       "      <td>9</td>\n",
       "      <td>['pounding heart', 'heart pounding']</td>\n",
       "      <td>['61 75', '295 309']</td>\n",
       "      <td>heart-pounding-OR-heart-racing</td>\n",
       "      <td>Dillon Cleveland is a 17 yo M who presents to ...</td>\n",
       "    </tr>\n",
       "    <tr>\n",
       "      <th>608</th>\n",
       "      <td>01010_010</td>\n",
       "      <td>0</td>\n",
       "      <td>1010</td>\n",
       "      <td>10</td>\n",
       "      <td>['2-3 months']</td>\n",
       "      <td>['149 159']</td>\n",
       "      <td>Few-months-duration</td>\n",
       "      <td>Dillon Cleveland is a 17 yo M who presents to ...</td>\n",
       "    </tr>\n",
       "    <tr>\n",
       "      <th>609</th>\n",
       "      <td>01010_011</td>\n",
       "      <td>0</td>\n",
       "      <td>1010</td>\n",
       "      <td>11</td>\n",
       "      <td>['17 yo']</td>\n",
       "      <td>['22 27']</td>\n",
       "      <td>17-year</td>\n",
       "      <td>Dillon Cleveland is a 17 yo M who presents to ...</td>\n",
       "    </tr>\n",
       "    <tr>\n",
       "      <th>610</th>\n",
       "      <td>01010_012</td>\n",
       "      <td>0</td>\n",
       "      <td>1010</td>\n",
       "      <td>12</td>\n",
       "      <td>['M']</td>\n",
       "      <td>['28 29']</td>\n",
       "      <td>Male</td>\n",
       "      <td>Dillon Cleveland is a 17 yo M who presents to ...</td>\n",
       "    </tr>\n",
       "  </tbody>\n",
       "</table>\n",
       "</div>"
      ],
      "text/plain": [
       "            id  case_num  pn_num  feature_num  \\\n",
       "598  01010_000         0    1010            0   \n",
       "599  01010_001         0    1010            1   \n",
       "600  01010_002         0    1010            2   \n",
       "601  01010_003         0    1010            3   \n",
       "602  01010_004         0    1010            4   \n",
       "603  01010_005         0    1010            5   \n",
       "604  01010_006         0    1010            6   \n",
       "605  01010_007         0    1010            7   \n",
       "606  01010_008         0    1010            8   \n",
       "607  01010_009         0    1010            9   \n",
       "608  01010_010         0    1010           10   \n",
       "609  01010_011         0    1010           11   \n",
       "610  01010_012         0    1010           12   \n",
       "\n",
       "                               annotation              location  \\\n",
       "598                  ['MI in his father']           ['732 748']   \n",
       "599       ['mother has thyroid problems']           ['768 795']   \n",
       "600                                    []                    []   \n",
       "601                                    []                    []   \n",
       "602                      ['light headed']           ['332 344']   \n",
       "603                                    []                    []   \n",
       "604                    ['taken adderall']   ['549 554;570 578']   \n",
       "605                               ['SOB']           ['324 327']   \n",
       "606                                    []                    []   \n",
       "607  ['pounding heart', 'heart pounding']  ['61 75', '295 309']   \n",
       "608                        ['2-3 months']           ['149 159']   \n",
       "609                             ['17 yo']             ['22 27']   \n",
       "610                                 ['M']             ['28 29']   \n",
       "\n",
       "                                          feature_text  \\\n",
       "598  Family-history-of-MI-OR-Family-history-of-myoc...   \n",
       "599                 Family-history-of-thyroid-disorder   \n",
       "600                                     Chest-pressure   \n",
       "601                              Intermittent-symptoms   \n",
       "602                                        Lightheaded   \n",
       "603  No-hair-changes-OR-no-nail-changes-OR-no-tempe...   \n",
       "604                                       Adderall-use   \n",
       "605                                Shortness-of-breath   \n",
       "606                                       Caffeine-use   \n",
       "607                     heart-pounding-OR-heart-racing   \n",
       "608                                Few-months-duration   \n",
       "609                                            17-year   \n",
       "610                                               Male   \n",
       "\n",
       "                                            pn_history  \n",
       "598  Dillon Cleveland is a 17 yo M who presents to ...  \n",
       "599  Dillon Cleveland is a 17 yo M who presents to ...  \n",
       "600  Dillon Cleveland is a 17 yo M who presents to ...  \n",
       "601  Dillon Cleveland is a 17 yo M who presents to ...  \n",
       "602  Dillon Cleveland is a 17 yo M who presents to ...  \n",
       "603  Dillon Cleveland is a 17 yo M who presents to ...  \n",
       "604  Dillon Cleveland is a 17 yo M who presents to ...  \n",
       "605  Dillon Cleveland is a 17 yo M who presents to ...  \n",
       "606  Dillon Cleveland is a 17 yo M who presents to ...  \n",
       "607  Dillon Cleveland is a 17 yo M who presents to ...  \n",
       "608  Dillon Cleveland is a 17 yo M who presents to ...  \n",
       "609  Dillon Cleveland is a 17 yo M who presents to ...  \n",
       "610  Dillon Cleveland is a 17 yo M who presents to ...  "
      ]
     },
     "execution_count": 61,
     "metadata": {},
     "output_type": "execute_result"
    }
   ],
   "source": [
    "cond_patient = train_df.pn_num == random_patient_id\n",
    "patient_df = train_df[cond_patient]\n",
    "\n",
    "patient_df"
   ]
  },
  {
   "cell_type": "code",
   "execution_count": 83,
   "id": "238dd874-4ed6-4c3d-afd3-b7020c920d17",
   "metadata": {},
   "outputs": [
    {
     "name": "stdout",
     "output_type": "stream",
     "text": [
      "Patient (1010) notes:\n",
      "\n",
      "Dillon Cleveland is a 17 yo M who presents to the clinic for pounding heart. He states it seems to be unprovoked and has been happening for the last 2-3 months. He is has been in college for the last 7-8 months and is generally doing well with his mood and his grades. He did not one episode of heart pounding where he felt SOB and light headed while playing basketball. He denies any flushing, sweating, excessive worrying, recent illness, or allergies. He does not take any medications. No recreation drug other than 1 time with marijuana, he has taken non-prescribed adderall a couple times a week during exam times. Maximimun EtOH consumption is 3-4 beers or mixed drinks on the weekends only. Family history is positive for an MI in his father at age 52, and his mother has thyroid problems. He was never hospitalized or told he had heart problems in the past.\n",
      "\u001b[92m\n",
      "Annotations:\n",
      "['MI in his father']\n",
      "['mother has thyroid problems']\n",
      "[]\n",
      "[]\n",
      "['light headed']\n",
      "[]\n",
      "['taken adderall']\n",
      "['SOB']\n",
      "[]\n",
      "['pounding heart', 'heart pounding']\n",
      "['2-3 months']\n",
      "['17 yo']\n",
      "['M']\n",
      "\u001b[94m\n",
      "Locations\n",
      "['732 748']\n",
      "['768 795']\n",
      "[]\n",
      "[]\n",
      "['332 344']\n",
      "[]\n",
      "['549 554;570 578']\n",
      "['324 327']\n",
      "[]\n",
      "['61 75', '295 309']\n",
      "['149 159']\n",
      "['22 27']\n",
      "['28 29']\n"
     ]
    }
   ],
   "source": [
    "print(f\"Patient ({random_patient_id}) notes:\\n\")\n",
    "cond_patient = patient_notes_df.pn_num == random_patient_id\n",
    "print(patient_notes_df[cond_patient].pn_history.values[0])\n",
    "print(\"\\033[92m\\nAnnotations:\")\n",
    "for annotation in patient_df.annotation:\n",
    "    print(annotation)\n",
    "    \n",
    "print(\"\\033[94m\\nLocations\")\n",
    "for location in patient_df.location:\n",
    "    print(location)"
   ]
  },
  {
   "cell_type": "markdown",
   "id": "cd48a404-dbc5-4c64-abd7-a6771ce3fe68",
   "metadata": {},
   "source": [
    "### Annotation analysis"
   ]
  },
  {
   "cell_type": "code",
   "execution_count": 93,
   "id": "b2ede942-8a45-437f-980a-9abeacb1447a",
   "metadata": {},
   "outputs": [
    {
     "data": {
      "image/png": "[encoded data removed]",
      "text/plain": [
       "<Figure size 864x576 with 1 Axes>"
      ]
     },
     "metadata": {
      "needs_background": "light"
     },
     "output_type": "display_data"
    }
   ],
   "source": [
    "cond_empty_annotation = train_df.annotation == \"[]\"\n",
    "data = {\n",
    "    \"Empty annotations\": train_df[cond_empty_annotation].shape[0],\n",
    "    \"Non-empty annotations\": train_df[~cond_empty_annotation].shape[0]\n",
    "}\n",
    "_ = pd.DataFrame(data, index=[0]) \\\n",
    "    .plot(kind=\"bar\", xlabel=\"Annotations\", ylabel=\"Count\", \n",
    "          figsize=(12, 8), color=[\"r\", \"g\"], title=\"Empty annotation vs non-empty annotations\")"
   ]
  },
  {
   "cell_type": "code",
   "execution_count": 97,
   "id": "a2899efc-54f6-4478-b5be-d8622dadfac3",
   "metadata": {},
   "outputs": [],
   "source": [
    "train_df[\"annotation\"] = train_df.annotation.apply(lambda x: eval(x))"
   ]
  },
  {
   "cell_type": "code",
   "execution_count": 103,
   "id": "c943148e-9dac-4178-8455-5097889a5a21",
   "metadata": {},
   "outputs": [],
   "source": [
    "train_df[\"annotation_number\"] = train_df.annotation.str.len()"
   ]
  },
  {
   "cell_type": "code",
   "execution_count": 110,
   "id": "7530a0af-89c8-4433-8d12-93b10e043b71",
   "metadata": {},
   "outputs": [
    {
     "data": {
      "image/png": "[encoded data removed]",
      "text/plain": [
       "<Figure size 1080x576 with 1 Axes>"
      ]
     },
     "metadata": {
      "needs_background": "light"
     },
     "output_type": "display_data"
    }
   ],
   "source": [
    "plot_utils.plot_histogram(\n",
    "    train_df[\"annotation_number\"], bins=10, title=\"Histogram of annotations\", \n",
    "    x_label=\"Annotations number\", y_label=\"Count\")"
   ]
  },
  {
   "cell_type": "code",
   "execution_count": 117,
   "id": "2714b6b5-34e8-4fd3-89fe-b04ae2192aeb",
   "metadata": {},
   "outputs": [
    {
     "data": {
      "image/png": "[encoded data removed]",
      "text/plain": [
       "<Figure size 864x576 with 1 Axes>"
      ]
     },
     "metadata": {
      "needs_background": "light"
     },
     "output_type": "display_data"
    }
   ],
   "source": [
    "ax = train_df \\\n",
    "    .groupby(\"case_num\") \\\n",
    "    .annotation_number \\\n",
    "    .mean() \\\n",
    "    .plot(kind=\"bar\", figsize=(12, 8), rot=0, xlabel=\"Case number\", \n",
    "          ylabel=\"Annotations number\", title=\"Average annotation for each case\")\n",
    "_ = ax.axhline(y=train_df.annotation_number.mean(), color=\"r\", linestyle=\"--\")"
   ]
  },
  {
   "cell_type": "code",
   "execution_count": 137,
   "id": "fef0cb2d-f543-4573-8ed0-351b4b05bcde",
   "metadata": {},
   "outputs": [],
   "source": [
    "annotations = []\n",
    "for list_annotation in train_df.annotation.values.tolist():\n",
    "    for annotation in list_annotation:\n",
    "        annotations.append(annotation)\n",
    "        \n",
    "annotations_df = pd.DataFrame(list(set(annotations)), columns=[\"annotation\"])\n",
    "annotations_df[\"annotation_len\"] = annotations_df.annotation.str.len()"
   ]
  },
  {
   "cell_type": "code",
   "execution_count": 143,
   "id": "58e6efa6-9dae-4cf9-8a54-c66ca722e36b",
   "metadata": {},
   "outputs": [
    {
     "data": {
      "image/png": "[encoded data removed]",
      "text/plain": [
       "<Figure size 1080x576 with 1 Axes>"
      ]
     },
     "metadata": {
      "needs_background": "light"
     },
     "output_type": "display_data"
    }
   ],
   "source": [
    "plot_utils.plot_histogram(\n",
    "    annotations_df[\"annotation_len\"], bins=20, title=\"Histogram of annotations lenght\", \n",
    "    x_label=\"Annotations lenght\", y_label=\"Count\")"
   ]
  },
  {
   "cell_type": "code",
   "execution_count": 145,
   "id": "d05aad3c-2c0c-4cba-8c33-939e53bf1288",
   "metadata": {},
   "outputs": [
    {
     "name": "stdout",
     "output_type": "stream",
     "text": [
      "Mean annotations lenght 23.323906083244395\n"
     ]
    }
   ],
   "source": [
    "print(f\"Mean annotations lenght {annotations_df.annotation_len.mean()}\")"
   ]
  },
  {
   "cell_type": "markdown",
   "id": "96e79727-cdce-4eef-8383-73d854f421aa",
   "metadata": {},
   "source": [
    "### Annotation visualitzation"
   ]
  },
  {
   "cell_type": "code",
   "execution_count": 151,
   "id": "dbd0c744-b5b1-4bd4-8ca8-5628bfc82e9d",
   "metadata": {},
   "outputs": [],
   "source": [
    "patient_id = train_df.sample(n=1).pn_num.values[0]\n",
    "\n",
    "cond_patient_id = train_df.pn_num == patient_id\n",
    "patient_df = train_df[cond_patient_id]"
   ]
  },
  {
   "cell_type": "code",
   "execution_count": 152,
   "id": "c0574c8d-75e0-408a-89e1-29a93a726b42",
   "metadata": {},
   "outputs": [
    {
     "data": {
      "text/html": [
       "<div>\n",
       "<style scoped>\n",
       "    .dataframe tbody tr th:only-of-type {\n",
       "        vertical-align: middle;\n",
       "    }\n",
       "\n",
       "    .dataframe tbody tr th {\n",
       "        vertical-align: top;\n",
       "    }\n",
       "\n",
       "    .dataframe thead th {\n",
       "        text-align: right;\n",
       "    }\n",
       "</style>\n",
       "<table border=\"1\" class=\"dataframe\">\n",
       "  <thead>\n",
       "    <tr style=\"text-align: right;\">\n",
       "      <th></th>\n",
       "      <th>id</th>\n",
       "      <th>case_num</th>\n",
       "      <th>pn_num</th>\n",
       "      <th>feature_num</th>\n",
       "      <th>annotation</th>\n",
       "      <th>location</th>\n",
       "      <th>feature_text</th>\n",
       "      <th>pn_history</th>\n",
       "      <th>annotation_number</th>\n",
       "    </tr>\n",
       "  </thead>\n",
       "  <tbody>\n",
       "    <tr>\n",
       "      <th>0</th>\n",
       "      <td>00016_000</td>\n",
       "      <td>0</td>\n",
       "      <td>94243</td>\n",
       "      <td>0</td>\n",
       "      <td>[dad with recent heart attcak]</td>\n",
       "      <td>['696 724']</td>\n",
       "      <td>Family-history-of-MI-OR-Family-history-of-myoc...</td>\n",
       "      <td>HPI: 17yo M presents with palpitations. Patien...</td>\n",
       "      <td>1</td>\n",
       "    </tr>\n",
       "    <tr>\n",
       "      <th>1</th>\n",
       "      <td>00016_001</td>\n",
       "      <td>0</td>\n",
       "      <td>94243</td>\n",
       "      <td>1</td>\n",
       "      <td>[mom with \"thyroid disease]</td>\n",
       "      <td>['668 693']</td>\n",
       "      <td>Family-history-of-thyroid-disorder</td>\n",
       "      <td>HPI: 17yo M presents with palpitations. Patien...</td>\n",
       "      <td>1</td>\n",
       "    </tr>\n",
       "    <tr>\n",
       "      <th>2</th>\n",
       "      <td>00016_002</td>\n",
       "      <td>0</td>\n",
       "      <td>94243</td>\n",
       "      <td>2</td>\n",
       "      <td>[chest pressure]</td>\n",
       "      <td>['203 217']</td>\n",
       "      <td>Chest-pressure</td>\n",
       "      <td>HPI: 17yo M presents with palpitations. Patien...</td>\n",
       "      <td>1</td>\n",
       "    </tr>\n",
       "    <tr>\n",
       "      <th>3</th>\n",
       "      <td>00016_003</td>\n",
       "      <td>0</td>\n",
       "      <td>94243</td>\n",
       "      <td>3</td>\n",
       "      <td>[intermittent episodes, episode]</td>\n",
       "      <td>['70 91', '176 183']</td>\n",
       "      <td>Intermittent-symptoms</td>\n",
       "      <td>HPI: 17yo M presents with palpitations. Patien...</td>\n",
       "      <td>2</td>\n",
       "    </tr>\n",
       "    <tr>\n",
       "      <th>4</th>\n",
       "      <td>00016_004</td>\n",
       "      <td>0</td>\n",
       "      <td>94243</td>\n",
       "      <td>4</td>\n",
       "      <td>[felt as if he were going to pass out]</td>\n",
       "      <td>['222 258']</td>\n",
       "      <td>Lightheaded</td>\n",
       "      <td>HPI: 17yo M presents with palpitations. Patien...</td>\n",
       "      <td>1</td>\n",
       "    </tr>\n",
       "    <tr>\n",
       "      <th>...</th>\n",
       "      <td>...</td>\n",
       "      <td>...</td>\n",
       "      <td>...</td>\n",
       "      <td>...</td>\n",
       "      <td>...</td>\n",
       "      <td>...</td>\n",
       "      <td>...</td>\n",
       "      <td>...</td>\n",
       "      <td>...</td>\n",
       "    </tr>\n",
       "    <tr>\n",
       "      <th>14295</th>\n",
       "      <td>95333_912</td>\n",
       "      <td>9</td>\n",
       "      <td>94243</td>\n",
       "      <td>912</td>\n",
       "      <td>[]</td>\n",
       "      <td>[]</td>\n",
       "      <td>Family-history-of-migraines</td>\n",
       "      <td>Stephanie madden is a 20 year old woman compla...</td>\n",
       "      <td>0</td>\n",
       "    </tr>\n",
       "    <tr>\n",
       "      <th>14296</th>\n",
       "      <td>95333_913</td>\n",
       "      <td>9</td>\n",
       "      <td>94243</td>\n",
       "      <td>913</td>\n",
       "      <td>[]</td>\n",
       "      <td>[]</td>\n",
       "      <td>Female</td>\n",
       "      <td>Stephanie madden is a 20 year old woman compla...</td>\n",
       "      <td>0</td>\n",
       "    </tr>\n",
       "    <tr>\n",
       "      <th>14297</th>\n",
       "      <td>95333_914</td>\n",
       "      <td>9</td>\n",
       "      <td>94243</td>\n",
       "      <td>914</td>\n",
       "      <td>[photobia]</td>\n",
       "      <td>['274 282']</td>\n",
       "      <td>Photophobia</td>\n",
       "      <td>Stephanie madden is a 20 year old woman compla...</td>\n",
       "      <td>1</td>\n",
       "    </tr>\n",
       "    <tr>\n",
       "      <th>14298</th>\n",
       "      <td>95333_915</td>\n",
       "      <td>9</td>\n",
       "      <td>94243</td>\n",
       "      <td>915</td>\n",
       "      <td>[no sick contacts]</td>\n",
       "      <td>['421 437']</td>\n",
       "      <td>No-known-illness-contacts</td>\n",
       "      <td>Stephanie madden is a 20 year old woman compla...</td>\n",
       "      <td>1</td>\n",
       "    </tr>\n",
       "    <tr>\n",
       "      <th>14299</th>\n",
       "      <td>95333_916</td>\n",
       "      <td>9</td>\n",
       "      <td>94243</td>\n",
       "      <td>916</td>\n",
       "      <td>[Subjective fever]</td>\n",
       "      <td>['314 330']</td>\n",
       "      <td>Subjective-fever</td>\n",
       "      <td>Stephanie madden is a 20 year old woman compla...</td>\n",
       "      <td>1</td>\n",
       "    </tr>\n",
       "  </tbody>\n",
       "</table>\n",
       "<p>14300 rows × 9 columns</p>\n",
       "</div>"
      ],
      "text/plain": [
       "              id  case_num  pn_num  feature_num  \\\n",
       "0      00016_000         0   94243            0   \n",
       "1      00016_001         0   94243            1   \n",
       "2      00016_002         0   94243            2   \n",
       "3      00016_003         0   94243            3   \n",
       "4      00016_004         0   94243            4   \n",
       "...          ...       ...     ...          ...   \n",
       "14295  95333_912         9   94243          912   \n",
       "14296  95333_913         9   94243          913   \n",
       "14297  95333_914         9   94243          914   \n",
       "14298  95333_915         9   94243          915   \n",
       "14299  95333_916         9   94243          916   \n",
       "\n",
       "                                   annotation              location  \\\n",
       "0              [dad with recent heart attcak]           ['696 724']   \n",
       "1                 [mom with \"thyroid disease]           ['668 693']   \n",
       "2                            [chest pressure]           ['203 217']   \n",
       "3            [intermittent episodes, episode]  ['70 91', '176 183']   \n",
       "4      [felt as if he were going to pass out]           ['222 258']   \n",
       "...                                       ...                   ...   \n",
       "14295                                      []                    []   \n",
       "14296                                      []                    []   \n",
       "14297                              [photobia]           ['274 282']   \n",
       "14298                      [no sick contacts]           ['421 437']   \n",
       "14299                      [Subjective fever]           ['314 330']   \n",
       "\n",
       "                                            feature_text  \\\n",
       "0      Family-history-of-MI-OR-Family-history-of-myoc...   \n",
       "1                     Family-history-of-thyroid-disorder   \n",
       "2                                         Chest-pressure   \n",
       "3                                  Intermittent-symptoms   \n",
       "4                                            Lightheaded   \n",
       "...                                                  ...   \n",
       "14295                        Family-history-of-migraines   \n",
       "14296                                             Female   \n",
       "14297                                        Photophobia   \n",
       "14298                          No-known-illness-contacts   \n",
       "14299                                   Subjective-fever   \n",
       "\n",
       "                                              pn_history  annotation_number  \n",
       "0      HPI: 17yo M presents with palpitations. Patien...                  1  \n",
       "1      HPI: 17yo M presents with palpitations. Patien...                  1  \n",
       "2      HPI: 17yo M presents with palpitations. Patien...                  1  \n",
       "3      HPI: 17yo M presents with palpitations. Patien...                  2  \n",
       "4      HPI: 17yo M presents with palpitations. Patien...                  1  \n",
       "...                                                  ...                ...  \n",
       "14295  Stephanie madden is a 20 year old woman compla...                  0  \n",
       "14296  Stephanie madden is a 20 year old woman compla...                  0  \n",
       "14297  Stephanie madden is a 20 year old woman compla...                  1  \n",
       "14298  Stephanie madden is a 20 year old woman compla...                  1  \n",
       "14299  Stephanie madden is a 20 year old woman compla...                  1  \n",
       "\n",
       "[14300 rows x 9 columns]"
      ]
     },
     "execution_count": 152,
     "metadata": {},
     "output_type": "execute_result"
    }
   ],
   "source": [
    "patient_df"
   ]
  },
  {
   "cell_type": "code",
   "execution_count": null,
   "id": "b876e327-812f-4e22-b817-53c444b5f04e",
   "metadata": {},
   "outputs": [],
   "source": []
  },
  {
   "cell_type": "code",
   "execution_count": null,
   "id": "62c6d448-5047-4766-8ccc-f01ff8d86ef2",
   "metadata": {},
   "outputs": [],
   "source": []
  }
 ],
 "metadata": {
  "kernelspec": {
   "display_name": "Python 3 (ipykernel)",
   "language": "python",
   "name": "python3"
  },
  "language_info": {
   "codemirror_mode": {
    "name": "ipython",
    "version": 3
   },
   "file_extension": ".py",
   "mimetype": "text/x-python",
   "name": "python",
   "nbconvert_exporter": "python",
   "pygments_lexer": "ipython3",
   "version": "3.9.10"
  }
 },
 "nbformat": 4,
 "nbformat_minor": 5
}
